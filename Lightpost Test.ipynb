{
 "cells": [
  {
   "cell_type": "code",
   "execution_count": 1,
   "metadata": {},
   "outputs": [],
   "source": [
    "from sklearn.datasets import load_iris\n",
    "d = load_iris()"
   ]
  },
  {
   "cell_type": "code",
   "execution_count": 2,
   "metadata": {},
   "outputs": [],
   "source": [
    "from lightpost.datapipe import Datapipe\n",
    "from lightpost.estimators import MLPClassifier\n",
    "from lightpost.engine import Engine"
   ]
  },
  {
   "cell_type": "code",
   "execution_count": 9,
   "metadata": {},
   "outputs": [],
   "source": [
    "pipe = Datapipe(d.data, d.target)\n",
    "model = MLPClassifier(input_dim=4, hidden_dim=128, output_dim=3, num_layers=3)\n",
    "engine = Engine(pipe, model, criterion='cross_entropy', optimizer='adam', scheduler=None)"
   ]
  },
  {
   "cell_type": "code",
   "execution_count": 10,
   "metadata": {},
   "outputs": [
    {
     "name": "stdout",
     "output_type": "stream",
     "text": [
      "Epoch   100 | Train Loss 1.0799 | Train Acc 0.3906 | Val Loss 1.0732 | Val Acc 0.3229\n",
      "Epoch   200 | Train Loss 1.0475 | Train Acc 0.7188 | Val Loss 1.0438 | Val Acc 0.6510\n",
      "Epoch   300 | Train Loss 1.0000 | Train Acc 0.7266 | Val Loss 1.0007 | Val Acc 0.6510\n",
      "Epoch   400 | Train Loss 0.9482 | Train Acc 0.7344 | Val Loss 0.9603 | Val Acc 0.4479\n",
      "Epoch   500 | Train Loss 0.8924 | Train Acc 0.7266 | Val Loss 0.9124 | Val Acc 0.6510\n",
      "Epoch   600 | Train Loss 0.8576 | Train Acc 0.6953 | Val Loss 0.8889 | Val Acc 0.3802\n",
      "Epoch   700 | Train Loss 0.8196 | Train Acc 0.7031 | Val Loss 0.8581 | Val Acc 0.5156\n",
      "Epoch   800 | Train Loss 0.7971 | Train Acc 0.7109 | Val Loss 0.8194 | Val Acc 0.5833\n",
      "Epoch   900 | Train Loss 0.7750 | Train Acc 0.7109 | Val Loss 0.8544 | Val Acc 0.3802\n",
      "Epoch  1000 | Train Loss 0.7565 | Train Acc 0.7031 | Val Loss 0.7818 | Val Acc 0.5833\n"
     ]
    }
   ],
   "source": [
    "engine.fit(epochs=1000, print_every=100, disable_tqdm=True)"
   ]
  },
  {
   "cell_type": "code",
   "execution_count": 5,
   "metadata": {},
   "outputs": [],
   "source": [
    "engine.save_weights('model.pt')"
   ]
  },
  {
   "cell_type": "code",
   "execution_count": 5,
   "metadata": {},
   "outputs": [],
   "source": [
    "from lightpost.utils.general import split\n",
    "X_train, X_test, y_train, y_test = split(d.data, d.target)"
   ]
  },
  {
   "cell_type": "code",
   "execution_count": 6,
   "metadata": {},
   "outputs": [
    {
     "data": {
      "text/plain": [
       "(0.7699859142303467, 1.0)"
      ]
     },
     "execution_count": 6,
     "metadata": {},
     "output_type": "execute_result"
    }
   ],
   "source": [
    "engine.evaluate_model(X_test, y_test)"
   ]
  },
  {
   "cell_type": "code",
   "execution_count": null,
   "metadata": {},
   "outputs": [],
   "source": []
  }
 ],
 "metadata": {
  "kernelspec": {
   "display_name": "Python 3",
   "language": "python",
   "name": "python3"
  },
  "language_info": {
   "codemirror_mode": {
    "name": "ipython",
    "version": 3
   },
   "file_extension": ".py",
   "mimetype": "text/x-python",
   "name": "python",
   "nbconvert_exporter": "python",
   "pygments_lexer": "ipython3",
   "version": "3.7.1"
  }
 },
 "nbformat": 4,
 "nbformat_minor": 2
}
